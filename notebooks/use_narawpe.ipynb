{
 "cells": [
  {
   "cell_type": "code",
   "execution_count": 6,
   "metadata": {},
   "outputs": [],
   "source": [
    "################## IMPORT LIBRARIES ##################\n",
    "import soundfile as sf\n",
    "from IPython.display import Audio\n",
    "import numpy as np\n",
    "import sys\n",
    "import importlib\n",
    "import random \n",
    "import pandas as pd\n",
    "pd.options.mode.copy_on_write = True\n",
    "import time\n",
    "from os.path import join as pjoin\n",
    "from acoustics.bands import third\n",
    "import scipy.signal as sig\n",
    "from IPython.display import Audio\n",
    "# from masp import shoebox_room_sim as srs\n",
    "from scipy.io import wavfile\n",
    "#import mat73\n",
    "import matplotlib.pyplot as plt\n",
    "plt.rcParams[\"figure.figsize\"] = (4, 3)\n",
    "import torch "
   ]
  },
  {
   "cell_type": "code",
   "execution_count": 7,
   "metadata": {},
   "outputs": [
    {
     "data": {
      "text/plain": [
       "<module 'models' from '/home/ubuntu/joanna/reverb-match-cond-u-net/notebooks/../src/models.py'>"
      ]
     },
     "execution_count": 7,
     "metadata": {},
     "output_type": "execute_result"
    }
   ],
   "source": [
    "################## IMPORT MY MODULES ##################\n",
    "sys.path.append('../src')\n",
    "\n",
    "import helpers as hlp\n",
    "import evaluation\n",
    "import dataset as ds\n",
    "import trainer\n",
    "import models\n",
    "\n",
    "sys.path.append('../baseline/fins')\n",
    "\n",
    "importlib.reload(evaluation)\n",
    "importlib.reload(hlp)\n",
    "importlib.reload(ds)\n",
    "importlib.reload(trainer)\n",
    "importlib.reload(models)\n"
   ]
  },
  {
   "cell_type": "code",
   "execution_count": 11,
   "metadata": {},
   "outputs": [],
   "source": [
    "################## LOAD OUR DATASET  ##################\n",
    "\n",
    "config=hlp.load_config(\"../config/basic.yaml\")\n",
    "\n",
    "# instantiate a test data set \n",
    "config[\"split\"]=\"test\"\n",
    "config[\"df_metadata\"]=\"/home/ubuntu/joanna/reverb-match-cond-u-net/dataset-metadata/nonoise_48khz_guestxr.csv\"\n",
    "config[\"p_noise\"]=0\n",
    "dataset=ds.DatasetReverbTransfer(config)\n",
    "# get one data sample \n",
    "sContent, sStyle, sTarget, sAnecho = dataset[128]\n"
   ]
  },
  {
   "cell_type": "code",
   "execution_count": 81,
   "metadata": {},
   "outputs": [],
   "source": [
    "from nara_wpe.wpe import online_wpe_step, get_power_online, OnlineWPE\n",
    "from nara_wpe.utils import stft, istft, get_stft_center_frequencies\n",
    "\n",
    "def fit_nara(y):\n",
    "    # grab all the nara params\n",
    "    size = 512\n",
    "    shift = 256\n",
    "    taps = 10\n",
    "    delay = 1\n",
    "    alpha = 0.9999\n",
    "    channel = 1\n",
    "    frequency_bins = size // 2 + 1\n",
    "\n",
    "    Y = stft(y.T, size=size, shift=shift).transpose(1, 2, 0)\n",
    "    T, _, _ = Y.shape\n",
    "\n",
    "    def aquire_framebuffer():\n",
    "        # buffer init with zeros so output is time alligned\n",
    "        buffer = list(np.zeros((taps + delay, Y.shape[1], Y.shape[2]), dtype=Y.dtype))\n",
    "        # buffer = list(Y[: taps + delay, :, :])\n",
    "        # for t in range(taps + delay + 1, T):\n",
    "\n",
    "        for t in range(0, T):\n",
    "\n",
    "            buffer.append(Y[t, :, :])\n",
    "            yield np.array(buffer)\n",
    "            buffer.pop(0)\n",
    "\n",
    "    Z_list = []\n",
    "    online_wpe = OnlineWPE(\n",
    "        taps=taps,\n",
    "        delay=delay,\n",
    "        alpha=alpha,\n",
    "        channel=channel,\n",
    "        frequency_bins=frequency_bins,\n",
    "    )\n",
    "    \n",
    "    for Y_step in aquire_framebuffer():\n",
    "        Z_list.append(online_wpe.step_frame(Y_step))\n",
    "\n",
    "    Z = np.stack(Z_list)\n",
    "    z = istft(\n",
    "        np.asarray(Z).transpose(2, 0, 1),\n",
    "        size=size,\n",
    "        shift=shift,\n",
    "    )\n",
    "\n",
    "    # return the output for the first channel\n",
    "    return z[0], Y, Z\n",
    "\n",
    "\n",
    "z, Y, Z=fit_nara(sContent.T.numpy())\n",
    "\n",
    "Audio(z,rate=48000)"
   ]
  },
  {
   "cell_type": "code",
   "execution_count": 82,
   "metadata": {},
   "outputs": [
    {
     "data": {
      "image/png": "[encoded data removed]",
      "text/plain": [
       "<Figure size 400x300 with 1 Axes>"
      ]
     },
     "metadata": {},
     "output_type": "display_data"
    }
   ],
   "source": [
    "fig, [ax1, ax2] = plt.subplots(1, 2, figsize=(20, 8))\n",
    "im1 = ax1.imshow(20 * np.log10(np.abs(Y[200:400, :, 0])).T, origin='lower')\n",
    "ax1.set_xlabel('')\n",
    "_ = ax1.set_title('reverberated')\n",
    "im2 = ax2.imshow(20 * np.log10(np.abs(Z[200:400, :, 0])).T, origin='lower')\n",
    "_ = ax2.set_title('dereverberated')"
   ]
  }
 ],
 "metadata": {
  "kernelspec": {
   "display_name": "Python 3",
   "language": "python",
   "name": "python3"
  },
  "language_info": {
   "codemirror_mode": {
    "name": "ipython",
    "version": 3
   },
   "file_extension": ".py",
   "mimetype": "text/x-python",
   "name": "python",
   "nbconvert_exporter": "python",
   "pygments_lexer": "ipython3",
   "version": "3.8.10"
  }
 },
 "nbformat": 4,
 "nbformat_minor": 2
}
