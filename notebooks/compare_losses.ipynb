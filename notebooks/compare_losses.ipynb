{
 "cells": [
  {
   "cell_type": "code",
   "execution_count": 4,
   "metadata": {},
   "outputs": [],
   "source": [
    "################## IMPORT LIBRARIES ##################\n",
    "import soundfile as sf\n",
    "from IPython.display import Audio\n",
    "import numpy as np\n",
    "import sys\n",
    "import importlib\n",
    "import random \n",
    "import pandas as pd\n",
    "pd.options.mode.copy_on_write = True\n",
    "import time\n",
    "from os.path import join as pjoin\n",
    "from acoustics.bands import third\n",
    "import scipy.signal as sig\n",
    "from IPython.display import Audio\n",
    "# from masp import shoebox_room_sim as srs\n",
    "from scipy.io import wavfile\n",
    "#import mat73\n",
    "import matplotlib.pyplot as plt\n",
    "plt.rcParams[\"figure.figsize\"] = (4, 3)\n",
    "import torch \n",
    "import os"
   ]
  },
  {
   "cell_type": "code",
   "execution_count": 3,
   "metadata": {},
   "outputs": [
    {
     "name": "stderr",
     "output_type": "stream",
     "text": [
      "2024-07-08 11:46:18.919828: I tensorflow/tsl/cuda/cudart_stub.cc:28] Could not find cuda drivers on your machine, GPU will not be used.\n",
      "2024-07-08 11:46:23.426524: I tensorflow/core/platform/cpu_feature_guard.cc:182] This TensorFlow binary is optimized to use available CPU instructions in performance-critical operations.\n",
      "To enable the following instructions: AVX2 FMA, in other operations, rebuild TensorFlow with the appropriate compiler flags.\n",
      "2024-07-08 11:46:31.122453: W tensorflow/compiler/tf2tensorrt/utils/py_utils.cc:38] TF-TRT Warning: Could not find TensorRT\n",
      "/home/ubuntu/.local/lib/python3.8/site-packages/df/io.py:9: UserWarning: `torchaudio.backend.common.AudioMetaData` has been moved to `torchaudio.AudioMetaData`. Please update the import path.\n",
      "  from torchaudio.backend.common import AudioMetaData\n"
     ]
    },
    {
     "data": {
      "text/plain": [
       "<module 'models' from '/home/ubuntu/joanna/reverb-match-cond-u-net/notebooks/../src/models.py'>"
      ]
     },
     "execution_count": 3,
     "metadata": {},
     "output_type": "execute_result"
    }
   ],
   "source": [
    "################## IMPORT MY MODULES ##################\n",
    "sys.path.append('../src')\n",
    "\n",
    "import helpers as hlp\n",
    "import evaluation\n",
    "import dataset as ds\n",
    "import trainer\n",
    "import models\n",
    "\n",
    "importlib.reload(evaluation)\n",
    "importlib.reload(hlp)\n",
    "importlib.reload(ds)\n",
    "importlib.reload(trainer)\n",
    "importlib.reload(models)"
   ]
  },
  {
   "cell_type": "code",
   "execution_count": null,
   "metadata": {},
   "outputs": [],
   "source": [
    "def audios2compare(config,exp_subdir,checkpoint_name,test_idx):\n",
    "    \n",
    "    # load results from checkpoints in the directory\n",
    "    exp_conditions_count=0\n",
    "    for filename in os.listdir(exp_subdir):\n",
    "        if filename==checkpoint_name: \n",
    "            exp_conditions_count+=1\n",
    "            # specify training params file\n",
    "            tmp_config=hlp.load_config(pjoin(exp_subdir,\"train_config.yaml\"))\n",
    "            # create evaluator object\n",
    "            tmp_model=trainer.load_chosen_model(tmp_config,tmp_config[\"modeltype\"]).to(tmp_config[\"device\"])\n",
    "            # checkpoint file path\n",
    "            checkpointpath=pjoin(exp_subdir,filename)\n",
    "            # load train results\n",
    "            train_results=torch.load(os.path.join(checkpointpath),map_location=tmp_config[\"device\"])\n",
    "            # initialize dataset and get a datapoint (do this only once in this loop)\n",
    "            if exp_conditions_count==1:\n",
    "                tmp_model.load_state_dict(train_results[\"model_state_dict\"])\n",
    "                tmp_config[\"split\"] = \"test\" \n",
    "                tmp_config[\"p_noise\"] = 0 # for evaluation, we do not want noise \n",
    "                dataset=ds.DatasetReverbTransfer(tmp_config)\n",
    "            \n",
    "            data=dataset[test_idx]\n",
    "            \n",
    "            # get signals\n",
    "            sContent, sStyle, sTarget, sPrediction=self.baseline.infer_baseline(data)\n",
    "            baselines=[]\n",
    "            baselines.Baseline(config)\n",
    "        \n",
    "            # checkpoint file path\n",
    "\n",
    "  \n",
    "\n",
    "            return eval_dict_list_condition"
   ]
  },
  {
   "cell_type": "code",
   "execution_count": null,
   "metadata": {},
   "outputs": [],
   "source": [
    "################## USING LOSSES AS A SIMILARITY MEASURE ##################\n",
    "\n",
    "# Which losses can I use as a similarity measure between two signals? \n",
    "# How does stoi, pesq and si-sdr change depending on two signals\n",
    "\n",
    "# s1 - reverberant\n",
    "# s2 - relatively dry"
   ]
  },
  {
   "cell_type": "code",
   "execution_count": null,
   "metadata": {},
   "outputs": [],
   "source": [
    "################## LOSSES ON ONE SAMPLE ##################\n",
    "\n",
    "\n",
    "\n"
   ]
  }
 ],
 "metadata": {
  "kernelspec": {
   "display_name": ".venv",
   "language": "python",
   "name": "python3"
  },
  "language_info": {
   "codemirror_mode": {
    "name": "ipython",
    "version": 3
   },
   "file_extension": ".py",
   "mimetype": "text/x-python",
   "name": "python",
   "nbconvert_exporter": "python",
   "pygments_lexer": "ipython3",
   "version": "3.8.10"
  },
  "orig_nbformat": 4
 },
 "nbformat": 4,
 "nbformat_minor": 2
}
